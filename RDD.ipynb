{
 "cells": [
  {
   "cell_type": "code",
   "execution_count": null,
   "id": "1b192a94",
   "metadata": {},
   "outputs": [],
   "source": [
    "import org.apache.spark.sql.SparkSession\n",
    "\n",
    "// Create SparkSession (entry point to Spark)\n",
    "val spark = SparkSession.builder()\n",
    "  .appName(\"RDD Example in Notebook\")\n",
    "  .master(\"local[*]\")   // run locally with all CPU cores\n",
    "  .getOrCreate()\n",
    "\n",
    "// SparkContext (needed for RDDs)\n",
    "val sc = spark.sparkContext\n"
   ]
  }
 ],
 "metadata": {
  "kernelspec": {
   "display_name": "Scala",
   "language": "scala",
   "name": "scala"
  },
  "language_info": {
   "codemirror_mode": "text/x-scala",
   "file_extension": ".sc",
   "mimetype": "text/x-scala",
   "name": "scala",
   "nbconvert_exporter": "script",
   "version": "2.13.16"
  }
 },
 "nbformat": 4,
 "nbformat_minor": 5
}
