{
 "cells": [
  {
   "cell_type": "code",
   "execution_count": 1,
   "id": "1b192a94",
   "metadata": {},
   "outputs": [
    {
     "name": "stderr",
     "output_type": "stream",
     "text": [
      "Downloading https://repo1.maven.org/maven2/org/apache/spark/spark-sql_3/3.5.0/spark-sql_3-3.5.0.pom\n"
     ]
    },
    {
     "name": "stderr",
     "output_type": "stream",
     "text": [
      "Failed to download https://repo1.maven.org/maven2/org/apache/spark/spark-sql_3/3.5.0/spark-sql_3-3.5.0.pom\n",
      "Downloading https://repo1.maven.org/maven2/org/apache/spark/spark-sql_3/3.5.0/spark-sql_3-3.5.0.pom.sha1\n",
      "Failed to download https://repo1.maven.org/maven2/org/apache/spark/spark-sql_3/3.5.0/spark-sql_3-3.5.0.pom.sha1\n",
      "Downloading https://jitpack.io/org/apache/spark/spark-sql_3/3.5.0/spark-sql_3-3.5.0.pom\n",
      "Failed to download https://jitpack.io/org/apache/spark/spark-sql_3/3.5.0/spark-sql_3-3.5.0.pom\n",
      "Downloading https://jitpack.io/org/apache/spark/spark-sql_3/3.5.0/spark-sql_3-3.5.0.pom.sha1\n",
      "Failed to download https://jitpack.io/org/apache/spark/spark-sql_3/3.5.0/spark-sql_3-3.5.0.pom.sha1\n",
      "Failed to resolve ivy dependencies:Error downloading org.apache.spark:spark-sql_3:3.5.0\n",
      "  not found: C:\\Users\\Susha\\.ivy2\\local\\org.apache.spark\\spark-sql_3\\3.5.0\\ivys\\ivy.xml\n",
      "  not found: https://repo1.maven.org/maven2/org/apache/spark/spark-sql_3/3.5.0/spark-sql_3-3.5.0.pom\n",
      "  not found: https://jitpack.io/org/apache/spark/spark-sql_3/3.5.0/spark-sql_3-3.5.0.pom"
     ]
    }
   ],
   "source": [
    "import $ivy.`org.apache.spark::spark-sql:3.5.0`"
   ]
  },
  {
   "cell_type": "code",
   "execution_count": 1,
   "id": "d27ff755",
   "metadata": {},
   "outputs": [
    {
     "name": "stderr",
     "output_type": "stream",
     "text": [
      "-- [E008] Not Found Error: cmd1.sc:1:11 ----------------------------------------\n",
      "1 |import org.apache.spark.sql.SparkSession\n",
      "  |       ^^^^^^^^^^\n",
      "  |       value apache is not a member of org\n",
      "Compilation Failed"
     ]
    }
   ],
   "source": [
    "import org.apache.spark.sql.SparkSession\n",
    "\n",
    "val spark = SparkSession.builder()\n",
    "  .appName(\"RDD Example in Notebook\")\n",
    "  .master(\"local[*]\")\n",
    "  .getOrCreate()\n",
    "\n",
    "val sc = spark.sparkContext\n"
   ]
  },
  {
   "cell_type": "code",
   "execution_count": null,
   "id": "c45a4bd0",
   "metadata": {},
   "outputs": [],
   "source": [
    "// Example RDD\n",
    "val data = Seq(1, 2, 3, 4, 5)\n",
    "val rdd = sc.parallelize(data)\n",
    "\n",
    "// Transformation\n",
    "val squared = rdd.map(x => x * x)\n",
    "\n",
    "// Action\n",
    "squared.collect().foreach(println)\n"
   ]
  }
 ],
 "metadata": {
  "kernelspec": {
   "display_name": "Scala",
   "language": "scala",
   "name": "scala"
  },
  "language_info": {
   "codemirror_mode": "text/x-scala",
   "file_extension": ".sc",
   "mimetype": "text/x-scala",
   "name": "scala",
   "nbconvert_exporter": "script",
   "version": "2.13.16"
  }
 },
 "nbformat": 4,
 "nbformat_minor": 5
}
