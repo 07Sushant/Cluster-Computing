{
 "cells": [
  {
   "cell_type": "markdown",
   "id": "d97b953f",
   "metadata": {},
   "source": [
    "# Collections"
   ]
  },
  {
   "cell_type": "markdown",
   "id": "bbb6323a",
   "metadata": {},
   "source": [
    "# Set | Map | Seq"
   ]
  },
  {
   "cell_type": "code",
   "execution_count": 1,
   "id": "86d07436",
   "metadata": {},
   "outputs": [
    {
     "data": {
      "text/plain": [
       "\u001b[36mseqCollection\u001b[39m: \u001b[32mSeq\u001b[39m[\u001b[32mInt\u001b[39m] = \u001b[33mList\u001b[39m(\u001b[32m2\u001b[39m, \u001b[32m4\u001b[39m, \u001b[32m6\u001b[39m, \u001b[32m8\u001b[39m, \u001b[32m10\u001b[39m)"
      ]
     },
     "execution_count": 1,
     "metadata": {},
     "output_type": "execute_result"
    }
   ],
   "source": [
    "val seqCollection = Seq(2,4,6,8,10);"
   ]
  },
  {
   "cell_type": "code",
   "execution_count": 2,
   "id": "85ed035f",
   "metadata": {},
   "outputs": [
    {
     "name": "stdout",
     "output_type": "stream",
     "text": [
      "6\n"
     ]
    },
    {
     "data": {
      "text/plain": [
       "\u001b[36mseqCollection\u001b[39m: \u001b[32mSeq\u001b[39m[\u001b[32mInt\u001b[39m] = \u001b[33mList\u001b[39m(\u001b[32m2\u001b[39m, \u001b[32m4\u001b[39m, \u001b[32m6\u001b[39m, \u001b[32m8\u001b[39m, \u001b[32m10\u001b[39m)"
      ]
     },
     "execution_count": 2,
     "metadata": {},
     "output_type": "execute_result"
    }
   ],
   "source": [
    "val seqCollection = Seq(2, 4, 6, 8, 10)\n",
    "println(seqCollection.apply(2))\n"
   ]
  },
  {
   "cell_type": "code",
   "execution_count": null,
   "id": "4760c58a",
   "metadata": {},
   "outputs": [],
   "source": [
    "val Collection"
   ]
  },
  {
   "cell_type": "markdown",
   "id": "93b7106c",
   "metadata": {},
   "source": [
    "## Arrays Collection"
   ]
  },
  {
   "cell_type": "code",
   "execution_count": 7,
   "id": "d66d2afb",
   "metadata": {},
   "outputs": [
    {
     "data": {
      "text/plain": [
       "\u001b[36marr1\u001b[39m: \u001b[32mArray\u001b[39m[\u001b[32mString\u001b[39m] = \u001b[33mArray\u001b[39m(\u001b[32mnull\u001b[39m, \u001b[32mnull\u001b[39m)"
      ]
     },
     "execution_count": 7,
     "metadata": {},
     "output_type": "execute_result"
    }
   ],
   "source": [
    "var arr1 = new Array[String](2)"
   ]
  },
  {
   "cell_type": "code",
   "execution_count": null,
   "id": "9aadf723",
   "metadata": {},
   "outputs": [
    {
     "name": "stdout",
     "output_type": "stream",
     "text": [
      "Sushant\n",
      "Kumar\n"
     ]
    }
   ],
   "source": [
    "arr1(0)=\"Sushant\"\n",
    "arr1(1)=\"Kumar\"\n",
    "\n",
    "\n",
    "arr1.foreach(println)"
   ]
  },
  {
   "cell_type": "code",
   "execution_count": 9,
   "id": "a1044698",
   "metadata": {},
   "outputs": [
    {
     "data": {
      "text/plain": [
       "\u001b[36marray1\u001b[39m: \u001b[32mArray\u001b[39m[\u001b[32mInt\u001b[39m] = \u001b[33mArray\u001b[39m(\u001b[32m0\u001b[39m, \u001b[32m1\u001b[39m, \u001b[32m2\u001b[39m, \u001b[32m3\u001b[39m, \u001b[32m4\u001b[39m)"
      ]
     },
     "execution_count": 9,
     "metadata": {},
     "output_type": "execute_result"
    }
   ],
   "source": [
    "val array1 = Array.range(0,5)"
   ]
  },
  {
   "cell_type": "code",
   "execution_count": 10,
   "id": "79bd82c4",
   "metadata": {},
   "outputs": [
    {
     "name": "stdout",
     "output_type": "stream",
     "text": [
      "0\n",
      "1\n",
      "2\n",
      "3\n",
      "4\n"
     ]
    }
   ],
   "source": [
    "array1.foreach(println)"
   ]
  },
  {
   "cell_type": "code",
   "execution_count": 11,
   "id": "eabf70fd",
   "metadata": {},
   "outputs": [
    {
     "name": "stdout",
     "output_type": "stream",
     "text": [
      "5\n"
     ]
    },
    {
     "data": {
      "text/plain": [
       "\u001b[36mintArray\u001b[39m: \u001b[32mArray\u001b[39m[\u001b[32mInt\u001b[39m] = \u001b[33mArray\u001b[39m(\u001b[32m17\u001b[39m, \u001b[32m34\u001b[39m, \u001b[32m23\u001b[39m, \u001b[32m6\u001b[39m, \u001b[32m50\u001b[39m)\r\n",
       "\u001b[36mlen\u001b[39m: \u001b[32mInt\u001b[39m = \u001b[32m5\u001b[39m"
      ]
     },
     "execution_count": 11,
     "metadata": {},
     "output_type": "execute_result"
    }
   ],
   "source": [
    "val intArray = Array(17,34,23,6,50)\n",
    "val len = intArray.length\n",
    "\n",
    "println(len)"
   ]
  },
  {
   "cell_type": "code",
   "execution_count": 12,
   "id": "d5e85514",
   "metadata": {},
   "outputs": [
    {
     "data": {
      "text/plain": [
       "\u001b[36marr1\u001b[39m: \u001b[32mArray\u001b[39m[\u001b[32mInt\u001b[39m] = \u001b[33mArray\u001b[39m(\u001b[32m0\u001b[39m, \u001b[32m1\u001b[39m, \u001b[32m2\u001b[39m, \u001b[32m3\u001b[39m, \u001b[32m4\u001b[39m, \u001b[32m5\u001b[39m, \u001b[32m6\u001b[39m, \u001b[32m7\u001b[39m, \u001b[32m8\u001b[39m, \u001b[32m9\u001b[39m)\r\n",
       "\u001b[36marr2\u001b[39m: \u001b[32mArray\u001b[39m[\u001b[32mInt\u001b[39m] = \u001b[33mArray\u001b[39m(\u001b[32m0\u001b[39m, \u001b[32m2\u001b[39m, \u001b[32m4\u001b[39m, \u001b[32m6\u001b[39m, \u001b[32m8\u001b[39m)\r\n",
       "\u001b[36marr3\u001b[39m: \u001b[32mArray\u001b[39m[\u001b[32mInt\u001b[39m] = \u001b[33mArray\u001b[39m(\u001b[32m0\u001b[39m, \u001b[32m4\u001b[39m, \u001b[32m8\u001b[39m, \u001b[32m12\u001b[39m, \u001b[32m16\u001b[39m)\r\n",
       "\u001b[36marr4\u001b[39m: \u001b[32mArray\u001b[39m[\u001b[32mInt\u001b[39m] = \u001b[33mArray\u001b[39m(\u001b[32m16\u001b[39m, \u001b[32m12\u001b[39m, \u001b[32m8\u001b[39m, \u001b[32m4\u001b[39m, \u001b[32m0\u001b[39m)"
      ]
     },
     "execution_count": 12,
     "metadata": {},
     "output_type": "execute_result"
    }
   ],
   "source": [
    "var arr1 =  Array.range(0,10)\n",
    "\n",
    "var arr2 = arr1.filter(_% 2==0)\n",
    "\n",
    "var arr3=arr2.map(_*2)\n",
    "\n",
    "var arr4=arr3.reverse"
   ]
  },
  {
   "cell_type": "code",
   "execution_count": 14,
   "id": "4ca9927a",
   "metadata": {},
   "outputs": [
    {
     "name": "stdout",
     "output_type": "stream",
     "text": [
      "1\n",
      "2\n",
      "3\n",
      "4\n",
      "5\n"
     ]
    },
    {
     "data": {
      "text/plain": [
       "\u001b[32mimport \u001b[39m\u001b[36mscala.collection.mutable.ArrayBuffer\r\n",
       "\r\n",
       "\u001b[39m\r\n",
       "\u001b[36mmyarraybuffer\u001b[39m: \u001b[32mArrayBuffer\u001b[39m[\u001b[32mInt\u001b[39m] = \u001b[33mArrayBuffer\u001b[39m(\u001b[32m1\u001b[39m, \u001b[32m2\u001b[39m, \u001b[32m3\u001b[39m, \u001b[32m4\u001b[39m, \u001b[32m5\u001b[39m)"
      ]
     },
     "execution_count": 14,
     "metadata": {},
     "output_type": "execute_result"
    }
   ],
   "source": [
    "import scala.collection.mutable.ArrayBuffer\n",
    "\n",
    "var myarraybuffer = ArrayBuffer(1,2,3,4,5)\n",
    "\n",
    "myarraybuffer.foreach(println)"
   ]
  },
  {
   "cell_type": "code",
   "execution_count": 15,
   "id": "efa126e7",
   "metadata": {},
   "outputs": [
    {
     "data": {
      "text/plain": [
       "\u001b[36mres15\u001b[39m: \u001b[32mArrayBuffer\u001b[39m[\u001b[32mInt\u001b[39m] = \u001b[33mArrayBuffer\u001b[39m(\u001b[32m1\u001b[39m, \u001b[32m2\u001b[39m, \u001b[32m3\u001b[39m, \u001b[32m4\u001b[39m, \u001b[32m5\u001b[39m, \u001b[32m6\u001b[39m)"
      ]
     },
     "execution_count": 15,
     "metadata": {},
     "output_type": "execute_result"
    }
   ],
   "source": [
    "myarraybuffer += 6"
   ]
  },
  {
   "cell_type": "code",
   "execution_count": 16,
   "id": "c41748fe",
   "metadata": {},
   "outputs": [
    {
     "data": {
      "text/plain": [
       "\u001b[36mres16\u001b[39m: \u001b[32mArrayBuffer\u001b[39m[\u001b[32mInt\u001b[39m] = \u001b[33mArrayBuffer\u001b[39m(\u001b[32m1\u001b[39m, \u001b[32m2\u001b[39m, \u001b[32m3\u001b[39m, \u001b[32m4\u001b[39m, \u001b[32m5\u001b[39m)"
      ]
     },
     "execution_count": 16,
     "metadata": {},
     "output_type": "execute_result"
    }
   ],
   "source": [
    "myarraybuffer -= 6"
   ]
  },
  {
   "cell_type": "code",
   "execution_count": 19,
   "id": "b0c86f16",
   "metadata": {},
   "outputs": [
    {
     "data": {
      "text/plain": [
       "\u001b[36mres19_0\u001b[39m: \u001b[32mInt\u001b[39m = \u001b[32m4\u001b[39m\r\n",
       "\u001b[36mres19_1\u001b[39m: \u001b[32mArrayBuffer\u001b[39m[\u001b[32mInt\u001b[39m] = \u001b[33mArrayBuffer\u001b[39m(\u001b[32m1\u001b[39m, \u001b[32m2\u001b[39m, \u001b[32m5\u001b[39m)"
      ]
     },
     "execution_count": 19,
     "metadata": {},
     "output_type": "execute_result"
    }
   ],
   "source": [
    "myarraybuffer.remove(2)\n",
    "myarraybuffer"
   ]
  },
  {
   "cell_type": "markdown",
   "id": "615bdaf0",
   "metadata": {},
   "source": [
    "# List"
   ]
  },
  {
   "cell_type": "code",
   "execution_count": 20,
   "id": "5887dc41",
   "metadata": {},
   "outputs": [
    {
     "data": {
      "text/plain": [
       "\u001b[36mfruits\u001b[39m: \u001b[32mList\u001b[39m[\u001b[32mString\u001b[39m] = \u001b[33mList\u001b[39m(\u001b[32m\"orange\"\u001b[39m, \u001b[32m\"apple\"\u001b[39m, \u001b[32m\"grapes\"\u001b[39m)"
      ]
     },
     "execution_count": 20,
     "metadata": {},
     "output_type": "execute_result"
    }
   ],
   "source": [
    "val fruits = List(\"orange\", \"apple\", \"grapes\")"
   ]
  },
  {
   "cell_type": "code",
   "execution_count": 22,
   "id": "d3dfe1ea",
   "metadata": {},
   "outputs": [
    {
     "name": "stdout",
     "output_type": "stream",
     "text": [
      "orange\n",
      "apple\n",
      "grapes\n"
     ]
    }
   ],
   "source": [
    "fruits.foreach(println)"
   ]
  },
  {
   "cell_type": "code",
   "execution_count": 23,
   "id": "38720e23",
   "metadata": {},
   "outputs": [
    {
     "data": {
      "text/plain": [
       "\u001b[36mlist1\u001b[39m: \u001b[32mList\u001b[39m[\u001b[32mString\u001b[39m] = \u001b[33mList\u001b[39m(\u001b[32m\"a\"\u001b[39m, \u001b[32m\"b\"\u001b[39m, \u001b[32m\"c\"\u001b[39m, \u001b[32m\"d\"\u001b[39m, \u001b[32m\"e\"\u001b[39m)"
      ]
     },
     "execution_count": 23,
     "metadata": {},
     "output_type": "execute_result"
    }
   ],
   "source": [
    "// Appending Elements\n",
    "\n",
    "val list1 = \"a\"::\"b\"::\"c\"::\"d\"::\"e\"::Nil"
   ]
  },
  {
   "cell_type": "code",
   "execution_count": null,
   "id": "7993ac3b",
   "metadata": {},
   "outputs": [
    {
     "name": "stdout",
     "output_type": "stream",
     "text": [
      "a\n",
      "b\n",
      "c\n",
      "d\n",
      "e\n",
      "p\n"
     ]
    },
    {
     "data": {
      "text/plain": [
       "\u001b[36mlist2\u001b[39m: \u001b[32mList\u001b[39m[\u001b[32mString\u001b[39m] = \u001b[33mList\u001b[39m(\u001b[32m\"a\"\u001b[39m, \u001b[32m\"b\"\u001b[39m, \u001b[32m\"c\"\u001b[39m, \u001b[32m\"d\"\u001b[39m, \u001b[32m\"e\"\u001b[39m, \u001b[32m\"p\"\u001b[39m)"
      ]
     },
     "execution_count": 24,
     "metadata": {},
     "output_type": "execute_result"
    }
   ],
   "source": [
    "val list2 = list1:+ \"p\"\n",
    "list2.foreach(println)\n"
   ]
  },
  {
   "cell_type": "markdown",
   "id": "71b925f4",
   "metadata": {},
   "source": [
    "# LazyList -  #::"
   ]
  },
  {
   "cell_type": "markdown",
   "id": "03d82dbd",
   "metadata": {},
   "source": [
    "### Version check "
   ]
  },
  {
   "cell_type": "code",
   "execution_count": 3,
   "id": "1ebe02ee",
   "metadata": {},
   "outputs": [
    {
     "data": {
      "text/plain": [
       "\u001b[36mres3\u001b[39m: \u001b[32mString\u001b[39m = \u001b[32m\"version 2.13.16\"\u001b[39m"
      ]
     },
     "execution_count": 3,
     "metadata": {},
     "output_type": "execute_result"
    }
   ],
   "source": [
    "scala.util.Properties.versionString\n"
   ]
  },
  {
   "cell_type": "code",
   "execution_count": 1,
   "id": "16543d55",
   "metadata": {},
   "outputs": [
    {
     "data": {
      "text/plain": [
       "\u001b[36mlist1\u001b[39m: \u001b[32mLazyList\u001b[39m[\u001b[32mInt\u001b[39m] = \u001b[33mLazyList\u001b[39m(\u001b[32m11\u001b[39m, \u001b[32m20\u001b[39m, \u001b[32m35\u001b[39m, \u001b[32m46\u001b[39m)"
      ]
     },
     "execution_count": 1,
     "metadata": {},
     "output_type": "execute_result"
    }
   ],
   "source": [
    "val list1 = 11#::20#::35#::46#::LazyList.empty"
   ]
  },
  {
   "cell_type": "code",
   "execution_count": 2,
   "id": "bca626d4",
   "metadata": {},
   "outputs": [
    {
     "data": {
      "text/plain": [
       "\u001b[36mlist3\u001b[39m: \u001b[32mLazyList\u001b[39m[\u001b[32mInt\u001b[39m] = \u001b[33mLazyList\u001b[39m(\r\n",
       "  \u001b[32m1\u001b[39m,\r\n",
       "  \u001b[32m2\u001b[39m,\r\n",
       "  \u001b[32m3\u001b[39m,\r\n",
       "  \u001b[32m4\u001b[39m,\r\n",
       "  \u001b[32m5\u001b[39m,\r\n",
       "  \u001b[32m6\u001b[39m,\r\n",
       "  \u001b[32m7\u001b[39m,\r\n",
       "  \u001b[32m8\u001b[39m,\r\n",
       "  \u001b[32m9\u001b[39m,\r\n",
       "  \u001b[32m10\u001b[39m,\r\n",
       "  \u001b[32m11\u001b[39m,\r\n",
       "  \u001b[32m12\u001b[39m,\r\n",
       "  \u001b[32m13\u001b[39m,\r\n",
       "  \u001b[32m14\u001b[39m,\r\n",
       "  \u001b[32m15\u001b[39m,\r\n",
       "  \u001b[32m16\u001b[39m,\r\n",
       "  \u001b[32m17\u001b[39m,\r\n",
       "  \u001b[32m18\u001b[39m,\r\n",
       "  \u001b[32m19\u001b[39m,\r\n",
       "  \u001b[32m20\u001b[39m,\r\n",
       "  \u001b[32m21\u001b[39m,\r\n",
       "  \u001b[32m22\u001b[39m,\r\n",
       "  \u001b[32m23\u001b[39m,\r\n",
       "  \u001b[32m24\u001b[39m,\r\n",
       "  \u001b[32m25\u001b[39m,\r\n",
       "  \u001b[32m26\u001b[39m,\r\n",
       "  \u001b[32m27\u001b[39m,\r\n",
       "  \u001b[32m28\u001b[39m,\r\n",
       "  \u001b[32m29\u001b[39m,\r\n",
       "  \u001b[32m30\u001b[39m,\r\n",
       "  \u001b[32m31\u001b[39m,\r\n",
       "  \u001b[32m32\u001b[39m,\r\n",
       "  \u001b[32m33\u001b[39m,\r\n",
       "  \u001b[32m34\u001b[39m,\r\n",
       "  \u001b[32m35\u001b[39m,\r\n",
       "  \u001b[32m36\u001b[39m,\r\n",
       "  \u001b[32m37\u001b[39m,\r\n",
       "  \u001b[32m38\u001b[39m,\r\n",
       "..."
      ]
     },
     "execution_count": 2,
     "metadata": {},
     "output_type": "execute_result"
    }
   ],
   "source": [
    "val list3 = LazyList.from(1 to 10000)"
   ]
  },
  {
   "cell_type": "markdown",
   "id": "83f219f2",
   "metadata": {},
   "source": [
    "# Stream"
   ]
  },
  {
   "cell_type": "code",
   "execution_count": 4,
   "id": "6ac6d00e",
   "metadata": {},
   "outputs": [
    {
     "name": "stderr",
     "output_type": "stream",
     "text": [
      "-- Warning: cmd4.sc:1:21 -------------------------------------------------------\n",
      "1 |val b=1#:: 2#:: 3#:: Stream.empty\n",
      "  |                     ^^^^^^\n",
      "  |value Stream in package scala is deprecated since 2.13.0: Use LazyList instead of Stream\n",
      "-- Warning: cmd4.sc:9:11 -------------------------------------------------------\n",
      "4 |    _root_.ammonite\n",
      "5 |          .repl\n",
      "6 |          .ReplBridge\n",
      "7 |          .value\n",
      "8 |          .Internal\n",
      "9 |          .print(b, \"b\", _root_.scala.None)\n",
      "  |    ^\n",
      "  |class Stream in package scala.collection.immutable is deprecated since 2.13.0: Use LazyList (which is fully lazy) instead of Stream (which has a lazy tail only)\n",
      "-- Deprecation Warning: pprint\\src-3\\TPrintImpl.scala:129:13 -------------------\n",
      "class Stream in package scala.collection.immutable is deprecated since 2.13.0: Use LazyList (which is fully lazy) instead of Stream (which has a lazy tail only)\n"
     ]
    },
    {
     "data": {
      "text/plain": [
       "\u001b[36mb\u001b[39m: \u001b[32mStream\u001b[39m[\u001b[32mInt\u001b[39m] = \u001b[33mStream\u001b[39m(\u001b[32m1\u001b[39m, \u001b[32m2\u001b[39m, \u001b[32m3\u001b[39m)"
      ]
     },
     "execution_count": 4,
     "metadata": {},
     "output_type": "execute_result"
    }
   ],
   "source": [
    "val b=1#:: 2#:: 3#:: Stream.empty"
   ]
  },
  {
   "cell_type": "code",
   "execution_count": 5,
   "id": "9963a87c",
   "metadata": {},
   "outputs": [
    {
     "data": {
      "text/plain": [
       "\u001b[36mb\u001b[39m: \u001b[32mLazyList\u001b[39m[\u001b[32mInt\u001b[39m] = \u001b[33mLazyList\u001b[39m(\u001b[32m1\u001b[39m, \u001b[32m2\u001b[39m, \u001b[32m3\u001b[39m)"
      ]
     },
     "execution_count": 5,
     "metadata": {},
     "output_type": "execute_result"
    }
   ],
   "source": [
    "val b = 1 #:: 2 #:: 3 #:: LazyList.empty"
   ]
  }
 ],
 "metadata": {
  "kernelspec": {
   "display_name": "Scala",
   "language": "scala",
   "name": "scala"
  },
  "language_info": {
   "codemirror_mode": "text/x-scala",
   "file_extension": ".sc",
   "mimetype": "text/x-scala",
   "name": "scala",
   "nbconvert_exporter": "script",
   "version": "2.13.16"
  }
 },
 "nbformat": 4,
 "nbformat_minor": 5
}
