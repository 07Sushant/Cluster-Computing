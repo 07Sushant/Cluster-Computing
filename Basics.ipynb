{
 "cells": [
  {
   "cell_type": "markdown",
   "id": "c68627c5",
   "metadata": {},
   "source": [
    "# Basics of Scala Programming"
   ]
  },
  {
   "cell_type": "code",
   "execution_count": 3,
   "id": "ca8ed7ee",
   "metadata": {},
   "outputs": [
    {
     "name": "stdout",
     "output_type": "stream",
     "text": [
      "Hello Scala\n"
     ]
    }
   ],
   "source": [
    "println(\"Hello Scala\")"
   ]
  },
  {
   "cell_type": "code",
   "execution_count": 4,
   "id": "84d23c57",
   "metadata": {},
   "outputs": [
    {
     "name": "stdout",
     "output_type": "stream",
     "text": [
      "Hello Scala\n"
     ]
    }
   ],
   "source": [
    "println(\"Hello Scala\")"
   ]
  },
  {
   "cell_type": "code",
   "execution_count": 5,
   "id": "3bd6374e",
   "metadata": {},
   "outputs": [
    {
     "name": "stdout",
     "output_type": "stream",
     "text": [
      "hi"
     ]
    }
   ],
   "source": [
    "print(\"hi\")"
   ]
  },
  {
   "cell_type": "markdown",
   "id": "6b522c0d",
   "metadata": {},
   "source": [
    "# Functions And Methods"
   ]
  },
  {
   "cell_type": "code",
   "execution_count": 1,
   "id": "a813f0f1",
   "metadata": {},
   "outputs": [
    {
     "name": "stdout",
     "output_type": "stream",
     "text": [
      "5\n"
     ]
    },
    {
     "data": {
      "text/plain": [
       "defined \u001b[32mfunction\u001b[39m \u001b[36madd\u001b[39m"
      ]
     },
     "execution_count": 1,
     "metadata": {},
     "output_type": "execute_result"
    }
   ],
   "source": [
    "def add(a: Int, b: Int): Int = {\n",
    "  a + b\n",
    "}\n",
    "\n",
    "println(add(2, 3))\n"
   ]
  },
  {
   "cell_type": "code",
   "execution_count": 2,
   "id": "a7af6415",
   "metadata": {},
   "outputs": [
    {
     "name": "stdout",
     "output_type": "stream",
     "text": [
      "110\n"
     ]
    },
    {
     "data": {
      "text/plain": [
       "defined \u001b[32mfunction\u001b[39m \u001b[36madd\u001b[39m"
      ]
     },
     "execution_count": 2,
     "metadata": {},
     "output_type": "execute_result"
    }
   ],
   "source": [
    "def add(a: Int, b: Int): Int = {\n",
    "  a + b\n",
    "}\n",
    "\n",
    "println(add(50, 60))\n"
   ]
  },
  {
   "cell_type": "code",
   "execution_count": 3,
   "id": "3776d370",
   "metadata": {},
   "outputs": [
    {
     "name": "stdout",
     "output_type": "stream",
     "text": [
      "130\n"
     ]
    },
    {
     "data": {
      "text/plain": [
       "defined \u001b[32mfunction\u001b[39m \u001b[36madd\u001b[39m\r\n",
       "\u001b[36mb\u001b[39m: \u001b[32mInt\u001b[39m = \u001b[32m130\u001b[39m"
      ]
     },
     "execution_count": 3,
     "metadata": {},
     "output_type": "execute_result"
    }
   ],
   "source": [
    "def add(a: Int, b: Int): Int = {\n",
    "  return (a + b)\n",
    "}\n",
    "\n",
    "var b = add(60,70)\n",
    "println(b)\n"
   ]
  },
  {
   "cell_type": "code",
   "execution_count": 4,
   "id": "fd91597c",
   "metadata": {},
   "outputs": [
    {
     "data": {
      "text/plain": [
       "\u001b[36ms\u001b[39m: \u001b[32mString\u001b[39m = \u001b[32m\"hello world\"\u001b[39m"
      ]
     },
     "execution_count": 4,
     "metadata": {},
     "output_type": "execute_result"
    }
   ],
   "source": [
    "var s =\"hello world\""
   ]
  },
  {
   "cell_type": "code",
   "execution_count": 5,
   "id": "1f8672f2",
   "metadata": {},
   "outputs": [
    {
     "name": "stdout",
     "output_type": "stream",
     "text": [
      "11\n"
     ]
    }
   ],
   "source": [
    "println(s.length())"
   ]
  },
  {
   "cell_type": "code",
   "execution_count": 1,
   "id": "09104f9c",
   "metadata": {},
   "outputs": [
    {
     "name": "stdout",
     "output_type": "stream",
     "text": [
      "Hello Sushant kumar\n"
     ]
    },
    {
     "data": {
      "text/plain": [
       "\u001b[36mname\u001b[39m: \u001b[32mString\u001b[39m = \u001b[32m\"Sushant\"\u001b[39m"
      ]
     },
     "execution_count": 1,
     "metadata": {},
     "output_type": "execute_result"
    }
   ],
   "source": [
    "var name = \"Sushant\"\n",
    "\n",
    "println(s\"Hello $name kumar\")"
   ]
  },
  {
   "cell_type": "code",
   "execution_count": 2,
   "id": "33bdd970",
   "metadata": {},
   "outputs": [
    {
     "name": "stdout",
     "output_type": "stream",
     "text": [
      "10+40 = 50\n"
     ]
    }
   ],
   "source": [
    "println(s\"10+40 = ${10+40}\")"
   ]
  },
  {
   "cell_type": "code",
   "execution_count": 3,
   "id": "de042044",
   "metadata": {},
   "outputs": [
    {
     "name": "stdout",
     "output_type": "stream",
     "text": [
      "The value of pi is 3.14\n"
     ]
    },
    {
     "data": {
      "text/plain": [
       "\u001b[36mpi\u001b[39m: \u001b[32mFloat\u001b[39m = \u001b[32m3.14159F\u001b[39m"
      ]
     },
     "execution_count": 3,
     "metadata": {},
     "output_type": "execute_result"
    }
   ],
   "source": [
    "val pi = 3.14159F\n",
    "println(f\"The value of pi is $pi%.2f\")"
   ]
  },
  {
   "cell_type": "code",
   "execution_count": 4,
   "id": "7a9ea4ad",
   "metadata": {},
   "outputs": [
    {
     "name": "stdout",
     "output_type": "stream",
     "text": [
      "without Raw: \n",
      " First \n",
      " second\n"
     ]
    }
   ],
   "source": [
    "println(\"without Raw: \\n First \\n second\")"
   ]
  },
  {
   "cell_type": "code",
   "execution_count": 5,
   "id": "1714c368",
   "metadata": {},
   "outputs": [
    {
     "name": "stdout",
     "output_type": "stream",
     "text": [
      "with Raw:\\n First\\n Second\n"
     ]
    }
   ],
   "source": [
    "println(raw\"with Raw:\\n First\\n Second\")"
   ]
  },
  {
   "cell_type": "code",
   "execution_count": 6,
   "id": "208a9c85",
   "metadata": {},
   "outputs": [
    {
     "name": "stdout",
     "output_type": "stream",
     "text": [
      "true\n"
     ]
    },
    {
     "data": {
      "text/plain": [
       "\u001b[36mstring1\u001b[39m: \u001b[32mString\u001b[39m = \u001b[32m\"hi\"\u001b[39m\r\n",
       "\u001b[36mstring2\u001b[39m: \u001b[32mString\u001b[39m = \u001b[32m\"hi\"\u001b[39m"
      ]
     },
     "execution_count": 6,
     "metadata": {},
     "output_type": "execute_result"
    }
   ],
   "source": [
    "val string1 =\"hi\"\n",
    "val string2=\"hi\"\n",
    "\n",
    "println(string1==string2)"
   ]
  },
  {
   "cell_type": "code",
   "execution_count": 8,
   "id": "43bac5c7",
   "metadata": {},
   "outputs": [
    {
     "name": "stdout",
     "output_type": "stream",
     "text": [
      "Hello from scala.\n",
      "I am sushant\n",
      "Learnning scala\n"
     ]
    },
    {
     "data": {
      "text/plain": [
       "\u001b[36mstring3\u001b[39m: \u001b[32mString\u001b[39m = \u001b[32m\"\"\"Hello from scala.\r\n",
       "I am sushant\r\n",
       "Learnning scala\"\"\"\u001b[39m"
      ]
     },
     "execution_count": 8,
     "metadata": {},
     "output_type": "execute_result"
    }
   ],
   "source": [
    "var string3 =\"\"\"Hello from scala.\n",
    "I am sushant\n",
    "Learnning scala\"\"\"\n",
    "\n",
    "println(string3)"
   ]
  },
  {
   "cell_type": "code",
   "execution_count": 17,
   "id": "135d32f4",
   "metadata": {},
   "outputs": [
    {
     "data": {
      "text/plain": [
       "\u001b[36mmy_string\u001b[39m: \u001b[32mString\u001b[39m = \u001b[32m\"hello,hi,hey\"\u001b[39m"
      ]
     },
     "execution_count": 17,
     "metadata": {},
     "output_type": "execute_result"
    }
   ],
   "source": [
    "var my_string = \"hello,hi,hey\""
   ]
  },
  {
   "cell_type": "code",
   "execution_count": 19,
   "id": "9af22968",
   "metadata": {},
   "outputs": [
    {
     "data": {
      "text/plain": [
       "\u001b[36mstr\u001b[39m: \u001b[32mArray\u001b[39m[\u001b[32mString\u001b[39m] = \u001b[33mArray\u001b[39m(\u001b[32m\"hello\"\u001b[39m, \u001b[32m\"hi\"\u001b[39m, \u001b[32m\"hey\"\u001b[39m)"
      ]
     },
     "execution_count": 19,
     "metadata": {},
     "output_type": "execute_result"
    }
   ],
   "source": [
    "var str = my_string.split(\",\")"
   ]
  },
  {
   "cell_type": "code",
   "execution_count": 21,
   "id": "b2471a8b",
   "metadata": {},
   "outputs": [
    {
     "name": "stdout",
     "output_type": "stream",
     "text": [
      "hello\n",
      "hi\n",
      "hey\n"
     ]
    }
   ],
   "source": [
    "str.foreach(println)"
   ]
  },
  {
   "cell_type": "markdown",
   "id": "78ea2321",
   "metadata": {},
   "source": [
    "# Regix in Scala\n",
    "### Pattern Matching"
   ]
  },
  {
   "cell_type": "code",
   "execution_count": 22,
   "id": "685c1859",
   "metadata": {},
   "outputs": [
    {
     "data": {
      "text/plain": [
       "\u001b[36mvar1\u001b[39m: \u001b[32mRegex\u001b[39m = the"
      ]
     },
     "execution_count": 22,
     "metadata": {},
     "output_type": "execute_result"
    }
   ],
   "source": [
    "var var1 =\"the\".r"
   ]
  },
  {
   "cell_type": "code",
   "execution_count": 23,
   "id": "2179a7ae",
   "metadata": {},
   "outputs": [
    {
     "data": {
      "text/plain": [
       "\u001b[36mvar2\u001b[39m: \u001b[32mString\u001b[39m = \u001b[32m\"the big data course\"\u001b[39m"
      ]
     },
     "execution_count": 23,
     "metadata": {},
     "output_type": "execute_result"
    }
   ],
   "source": [
    "var var2 = \"the big data course\""
   ]
  },
  {
   "cell_type": "code",
   "execution_count": 24,
   "id": "cc17a187",
   "metadata": {},
   "outputs": [
    {
     "data": {
      "text/plain": [
       "\u001b[36mvar3\u001b[39m: \u001b[32mOption\u001b[39m[\u001b[32mString\u001b[39m] = \u001b[33mSome\u001b[39m(value = \u001b[32m\"the\"\u001b[39m)"
      ]
     },
     "execution_count": 24,
     "metadata": {},
     "output_type": "execute_result"
    }
   ],
   "source": [
    "var var3 = var1.findFirstIn(var2)"
   ]
  },
  {
   "cell_type": "code",
   "execution_count": 25,
   "id": "0517f3d5",
   "metadata": {},
   "outputs": [
    {
     "name": "stdout",
     "output_type": "stream",
     "text": [
      "the\n"
     ]
    }
   ],
   "source": [
    "var3.foreach(println)"
   ]
  },
  {
   "cell_type": "code",
   "execution_count": 26,
   "id": "c792944a",
   "metadata": {},
   "outputs": [
    {
     "name": "stdout",
     "output_type": "stream",
     "text": [
      "12\n",
      "3\n",
      "4\n",
      "51\n"
     ]
    },
    {
     "data": {
      "text/plain": [
       "\u001b[36mvar1\u001b[39m: \u001b[32mRegex\u001b[39m = [1-5]+\r\n",
       "\u001b[36mvar2\u001b[39m: \u001b[32mString\u001b[39m = \u001b[32m\"12 67 93 48 51\"\u001b[39m\r\n",
       "\u001b[36mvar3\u001b[39m: \u001b[32mMatchIterator\u001b[39m = \u001b[32mempty iterator\u001b[39m"
      ]
     },
     "execution_count": 26,
     "metadata": {},
     "output_type": "execute_result"
    }
   ],
   "source": [
    "var var1 =\"[1-5]+\".r\n",
    "\n",
    "var var2 = \"12 67 93 48 51\"\n",
    "\n",
    "var var3 = var1.findAllIn(var2)\n",
    "\n",
    "var3.foreach(println)"
   ]
  },
  {
   "cell_type": "code",
   "execution_count": 27,
   "id": "4177c412",
   "metadata": {},
   "outputs": [
    {
     "name": "stdout",
     "output_type": "stream",
     "text": [
      "12\n",
      "51\n"
     ]
    },
    {
     "data": {
      "text/plain": [
       "\u001b[36mvar1\u001b[39m: \u001b[32mRegex\u001b[39m = [1-5]{2}+\r\n",
       "\u001b[36mvar2\u001b[39m: \u001b[32mString\u001b[39m = \u001b[32m\"12 67 93 48 51\"\u001b[39m\r\n",
       "\u001b[36mvar3\u001b[39m: \u001b[32mMatchIterator\u001b[39m = \u001b[32mempty iterator\u001b[39m"
      ]
     },
     "execution_count": 27,
     "metadata": {},
     "output_type": "execute_result"
    }
   ],
   "source": [
    "var var1 =\"[1-5]{2}+\".r\n",
    "\n",
    "var var2 = \"12 67 93 48 51\"\n",
    "\n",
    "var var3 = var1.findAllIn(var2)\n",
    "\n",
    "var3.foreach(println)"
   ]
  },
  {
   "cell_type": "markdown",
   "id": "cbe9a7f6",
   "metadata": {},
   "source": [
    "### Replace string"
   ]
  },
  {
   "cell_type": "code",
   "execution_count": 28,
   "id": "aa0d5529",
   "metadata": {},
   "outputs": [
    {
     "name": "stdout",
     "output_type": "stream",
     "text": [
      "82xx53x\n"
     ]
    },
    {
     "data": {
      "text/plain": [
       "\u001b[36mvar1\u001b[39m: \u001b[32mString\u001b[39m = \u001b[32m\"8201530\"\u001b[39m\r\n",
       "\u001b[36mvar2\u001b[39m: \u001b[32mString\u001b[39m = \u001b[32m\"82xx53x\"\u001b[39m"
      ]
     },
     "execution_count": 28,
     "metadata": {},
     "output_type": "execute_result"
    }
   ],
   "source": [
    "var var1 = \"8201530\"\n",
    "var var2 = var1.replaceAll(\"[01]\",\"x\")\n",
    "\n",
    "println(var2)"
   ]
  },
  {
   "cell_type": "code",
   "execution_count": null,
   "id": "2bd2eb31",
   "metadata": {},
   "outputs": [],
   "source": [
    "var regularExp = \"[a-z]+\".r\n",
    "\n",
    "var replaceIn=\""
   ]
  },
  {
   "cell_type": "markdown",
   "id": "02c07988",
   "metadata": {},
   "source": [
    "# Methods of Comparing Strings"
   ]
  },
  {
   "cell_type": "code",
   "execution_count": null,
   "id": "782fc95e",
   "metadata": {},
   "outputs": [],
   "source": []
  }
 ],
 "metadata": {
  "kernelspec": {
   "display_name": "Scala",
   "language": "scala",
   "name": "scala"
  },
  "language_info": {
   "codemirror_mode": "text/x-scala",
   "file_extension": ".sc",
   "mimetype": "text/x-scala",
   "name": "scala",
   "nbconvert_exporter": "script",
   "version": "2.13.16"
  }
 },
 "nbformat": 4,
 "nbformat_minor": 5
}
